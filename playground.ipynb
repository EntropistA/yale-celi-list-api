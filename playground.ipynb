{
 "cells": [
  {
   "cell_type": "code",
   "execution_count": 2,
   "outputs": [],
   "source": [
    "import pandas as pd"
   ],
   "metadata": {
    "collapsed": false,
    "pycharm": {
     "name": "#%%\n"
    }
   }
  },
  {
   "cell_type": "code",
   "execution_count": 10,
   "outputs": [
    {
     "name": "stdout",
     "output_type": "stream",
     "text": [
      "<class 'pandas.core.series.Series'> <class 'pandas.core.series.Series'>\n"
     ]
    },
    {
     "data": {
      "text/plain": "                                 Name  \\\n0                            Acerinox   \n1                              Agrana   \n2          Agricultural Bank of China   \n3       Aimbridge | Interstate Hotels   \n4                           Air China   \n..                                ...   \n235                         Wolffkran   \n236  Xibao Metallurgy Materials Group   \n237                            Yazaki   \n238                          Yokogawa   \n242                             Zwack   \n\n                                                Action  \\\n0                            still operating in Russia   \n1                   continue operating plant in Russia   \n2    Russian companies open accounts with the bank;...   \n3                            still operating in Russia   \n4                               still flying to Russia   \n..                                                 ...   \n235                          still operating in Russia   \n236  building a refractory material plant in Lipets...   \n237           operating in Russia through a subsidiary   \n238  still operating in Russia; not disclosed publicly   \n242                             Not disclosed publicly   \n\n                   Industry        Country  \n0                 Materials          Spain  \n1          Consumer Staples        Austria  \n2                Financials          China  \n3    Consumer Discretionary  United States  \n4               Industrials          China  \n..                      ...            ...  \n235             Industrials    Switzerland  \n236             Industrials          China  \n237  Consumer Discretionary          Japan  \n238  Information Technology          Japan  \n242        Consumer Staples        Hungary  \n\n[168 rows x 4 columns]",
      "text/html": "<div>\n<style scoped>\n    .dataframe tbody tr th:only-of-type {\n        vertical-align: middle;\n    }\n\n    .dataframe tbody tr th {\n        vertical-align: top;\n    }\n\n    .dataframe thead th {\n        text-align: right;\n    }\n</style>\n<table border=\"1\" class=\"dataframe\">\n  <thead>\n    <tr style=\"text-align: right;\">\n      <th></th>\n      <th>Name</th>\n      <th>Action</th>\n      <th>Industry</th>\n      <th>Country</th>\n    </tr>\n  </thead>\n  <tbody>\n    <tr>\n      <th>0</th>\n      <td>Acerinox</td>\n      <td>still operating in Russia</td>\n      <td>Materials</td>\n      <td>Spain</td>\n    </tr>\n    <tr>\n      <th>1</th>\n      <td>Agrana</td>\n      <td>continue operating plant in Russia</td>\n      <td>Consumer Staples</td>\n      <td>Austria</td>\n    </tr>\n    <tr>\n      <th>2</th>\n      <td>Agricultural Bank of China</td>\n      <td>Russian companies open accounts with the bank;...</td>\n      <td>Financials</td>\n      <td>China</td>\n    </tr>\n    <tr>\n      <th>3</th>\n      <td>Aimbridge | Interstate Hotels</td>\n      <td>still operating in Russia</td>\n      <td>Consumer Discretionary</td>\n      <td>United States</td>\n    </tr>\n    <tr>\n      <th>4</th>\n      <td>Air China</td>\n      <td>still flying to Russia</td>\n      <td>Industrials</td>\n      <td>China</td>\n    </tr>\n    <tr>\n      <th>...</th>\n      <td>...</td>\n      <td>...</td>\n      <td>...</td>\n      <td>...</td>\n    </tr>\n    <tr>\n      <th>235</th>\n      <td>Wolffkran</td>\n      <td>still operating in Russia</td>\n      <td>Industrials</td>\n      <td>Switzerland</td>\n    </tr>\n    <tr>\n      <th>236</th>\n      <td>Xibao Metallurgy Materials Group</td>\n      <td>building a refractory material plant in Lipets...</td>\n      <td>Industrials</td>\n      <td>China</td>\n    </tr>\n    <tr>\n      <th>237</th>\n      <td>Yazaki</td>\n      <td>operating in Russia through a subsidiary</td>\n      <td>Consumer Discretionary</td>\n      <td>Japan</td>\n    </tr>\n    <tr>\n      <th>238</th>\n      <td>Yokogawa</td>\n      <td>still operating in Russia; not disclosed publicly</td>\n      <td>Information Technology</td>\n      <td>Japan</td>\n    </tr>\n    <tr>\n      <th>242</th>\n      <td>Zwack</td>\n      <td>Not disclosed publicly</td>\n      <td>Consumer Staples</td>\n      <td>Hungary</td>\n    </tr>\n  </tbody>\n</table>\n<p>168 rows × 4 columns</p>\n</div>"
     },
     "execution_count": 10,
     "metadata": {},
     "output_type": "execute_result"
    }
   ],
   "source": [
    "YALE_CELI_LIST = \"https://som.yale.edu/story/2022/over-1000-companies-have-curtailed-operations-russia-some-remain\"\n",
    "companies = pd.read_html(YALE_CELI_LIST)[0]\n",
    "print(type(companies[\"Name\"]), type(companies[\"Name\"].str.contains(\"a\")))\n",
    "companies[companies[\"Name\"].str.lower().str.contains(\"a\")]\n"
   ],
   "metadata": {
    "collapsed": false,
    "pycharm": {
     "name": "#%%\n"
    }
   }
  },
  {
   "cell_type": "code",
   "execution_count": 7,
   "outputs": [],
   "source": [
    "from datetime import date\n",
    "from pathlib import Path\n",
    "\n",
    "\n",
    "class Companies:\n",
    "    GRADES = \"FDCBA\"\n",
    "\n",
    "    def __init__(self, companies_dataframe: pd.DataFrame):\n",
    "        self.companies_df = companies_dataframe\n",
    "\n",
    "    def fetch_data(self):\n",
    "        file_name = f\"./yale_companies_{date.today()}\"\n",
    "        if Path(file_name).exists():\n",
    "            return pd.read_json(file_name)\n",
    "        else:\n",
    "            YALE_CELI_LIST = \"https://som.yale.edu/story/2022/over-1000-companies-have-curtailed-operations-russia-some-remain\"\n",
    "\n",
    "            def companies_from_html():\n",
    "                companies = pd.read_html(YALE_CELI_LIST)\n",
    "                for grade_, df in zip(GRADES, tables):\n",
    "                    df[\"Grade\"] = grade_\n",
    "\n",
    "                    result = pd.concat([result, df])\n",
    "\n",
    "                result.head()\n",
    "\n",
    "\n",
    "    @classmethod\n",
    "    def _valid_grade(cls, grade: str):\n",
    "        return len(grade) == 1 and grade.lower() in cls.GRADES.lower()\n",
    "\n",
    "    def by_grade(self, letter):\n",
    "        if not self._valid_grade(letter):\n",
    "            raise ValueError(f\"Invalid grade: {letter}. Valid grades: {Companies.GRADES}\")\n",
    "\n",
    "        return self.companies_df[self.companies_df[\"Grade\"] == letter.upper()]\n",
    "\n",
    "    def _valid_country(self, country_name):\n",
    "        return country_name.title() in self.companies_df[\"Country\"]\n",
    "\n",
    "    def by_country(self, country_name):\n",
    "        if not self._valid_country:\n",
    "            raise ValueError(f\"Invalid country_name: {country_name}\")\n",
    "\n",
    "        return self.companies_df[self.companies_df[\"Country\"] == country_name.title()]\n"
   ],
   "metadata": {
    "collapsed": false,
    "pycharm": {
     "name": "#%%\n"
    }
   }
  },
  {
   "cell_type": "code",
   "execution_count": 8,
   "outputs": [
    {
     "ename": "NameError",
     "evalue": "name 'result' is not defined",
     "output_type": "error",
     "traceback": [
      "\u001B[0;31m---------------------------------------------------------------------------\u001B[0m",
      "\u001B[0;31mNameError\u001B[0m                                 Traceback (most recent call last)",
      "Input \u001B[0;32mIn [8]\u001B[0m, in \u001B[0;36m<cell line: 1>\u001B[0;34m()\u001B[0m\n\u001B[0;32m----> 1\u001B[0m companies \u001B[38;5;241m=\u001B[39m Companies(\u001B[43mresult\u001B[49m)\n\u001B[1;32m      3\u001B[0m companies\u001B[38;5;241m.\u001B[39mby_grade(\u001B[38;5;124m\"\u001B[39m\u001B[38;5;124ma\u001B[39m\u001B[38;5;124m\"\u001B[39m)\n",
      "\u001B[0;31mNameError\u001B[0m: name 'result' is not defined"
     ]
    }
   ],
   "source": [
    "companies = Companies(result)\n",
    "\n",
    "companies.by_grade(\"a\")"
   ],
   "metadata": {
    "collapsed": false,
    "pycharm": {
     "name": "#%%\n"
    }
   }
  },
  {
   "cell_type": "code",
   "execution_count": null,
   "outputs": [],
   "source": [],
   "metadata": {
    "collapsed": false,
    "pycharm": {
     "name": "#%%\n"
    }
   }
  }
 ],
 "metadata": {
  "kernelspec": {
   "display_name": "Python 3",
   "language": "python",
   "name": "python3"
  },
  "language_info": {
   "codemirror_mode": {
    "name": "ipython",
    "version": 2
   },
   "file_extension": ".py",
   "mimetype": "text/x-python",
   "name": "python",
   "nbconvert_exporter": "python",
   "pygments_lexer": "ipython2",
   "version": "2.7.6"
  }
 },
 "nbformat": 4,
 "nbformat_minor": 0
}